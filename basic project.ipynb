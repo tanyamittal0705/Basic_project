{
 "cells": [
  {
   "cell_type": "markdown",
   "id": "eaa6c9ff-bb6d-442a-ae1f-ff4e6de1aa5f",
   "metadata": {},
   "source": [
    "# 1"
   ]
  },
  {
   "cell_type": "code",
   "execution_count": 3,
   "id": "64933ddb-a762-4c80-aaba-1afb7df2f73c",
   "metadata": {},
   "outputs": [],
   "source": [
    "import time\n",
    "class ATM:\n",
    "    def __init__(self):\n",
    "        print(\"welcome to kotak Mahindra Bank\")\n",
    "        self.pin=\"3109\"\n",
    "        self.balance=10000.00\n",
    "        time.sleep(4)\n",
    "        self.intro()\n",
    "    def intro(self):\n",
    "        user=input(\"\"\"kindly chosse one option:\n",
    "        1. Balance enquiry\n",
    "        2. Fund transfer\n",
    "        3. Change pin\n",
    "        4. Withdrawal\n",
    "        5. Exit\n",
    "        \"\"\")\n",
    "        if user==\"1\":\n",
    "            self.balance_enquiry()\n",
    "        elif user==\"2\":\n",
    "            self.fund_transfer()\n",
    "        elif user==\"3\":\n",
    "            self.change_pin()\n",
    "        elif user==\"4\":\n",
    "            self.withdrawal()\n",
    "        elif user==\"5\":\n",
    "            self.exit()\n",
    "        else:\n",
    "            print(\"Ty Again\")\n",
    "    def balance_enquiry(self):\n",
    "        print(\"welcome to balance enquiry\")\n",
    "        print(\"Your account balance is {}\".format(self.balance))\n",
    "        time.sleep(2)\n",
    "        self.intro()\n",
    "    def fund_transfer(self):\n",
    "        print(\"Welcome to fund transer\")\n",
    "        time.sleep(2)\n",
    "        self.intro()\n",
    "    def change_pin(self):\n",
    "        print(\"Welcome to change pin\")\n",
    "        time.sleep(2)\n",
    "        self.intro()\n",
    "    def withdrawal(self):\n",
    "        print(\"welcome to withdrawal\")\n",
    "        user=eval(input(\"Enter your balance which you want to withdraw:\"))\n",
    "        try:\n",
    "             if self.balance<user:\n",
    "                 raise Exception(\"You have insufficient fund\")\n",
    "             self.balance=self.balance-user\n",
    "        except Exception as e:\n",
    "            print(e)\n",
    "        finally:\n",
    "             time.sleep(2)\n",
    "             self.intro()  \n",
    "    def exit(self):\n",
    "        print(\"Thankyou to banking with us\")"
   ]
  },
  {
   "cell_type": "code",
   "execution_count": 4,
   "id": "cae47b62",
   "metadata": {},
   "outputs": [
    {
     "name": "stdout",
     "output_type": "stream",
     "text": [
      "welcome to kotak Mahindra Bank\n"
     ]
    },
    {
     "name": "stdin",
     "output_type": "stream",
     "text": [
      "kindly chosse one option:\n",
      "        1. Balance enquiry\n",
      "        2. Fund transfer\n",
      "        3. Change pin\n",
      "        4. Withdrawal\n",
      "        5. Exit\n",
      "         1\n"
     ]
    },
    {
     "name": "stdout",
     "output_type": "stream",
     "text": [
      "welcome to balance enquiry\n",
      "Your account balance is 10000.0\n"
     ]
    },
    {
     "name": "stdin",
     "output_type": "stream",
     "text": [
      "kindly chosse one option:\n",
      "        1. Balance enquiry\n",
      "        2. Fund transfer\n",
      "        3. Change pin\n",
      "        4. Withdrawal\n",
      "        5. Exit\n",
      "         4\n"
     ]
    },
    {
     "name": "stdout",
     "output_type": "stream",
     "text": [
      "welcome to withdrawal\n"
     ]
    },
    {
     "name": "stdin",
     "output_type": "stream",
     "text": [
      "Enter your balance which you want to withdraw: 20000\n"
     ]
    },
    {
     "name": "stdout",
     "output_type": "stream",
     "text": [
      "You have insufficient fund\n"
     ]
    },
    {
     "name": "stdin",
     "output_type": "stream",
     "text": [
      "kindly chosse one option:\n",
      "        1. Balance enquiry\n",
      "        2. Fund transfer\n",
      "        3. Change pin\n",
      "        4. Withdrawal\n",
      "        5. Exit\n",
      "         4\n"
     ]
    },
    {
     "name": "stdout",
     "output_type": "stream",
     "text": [
      "welcome to withdrawal\n"
     ]
    },
    {
     "name": "stdin",
     "output_type": "stream",
     "text": [
      "Enter your balance which you want to withdraw: 2000\n",
      "kindly chosse one option:\n",
      "        1. Balance enquiry\n",
      "        2. Fund transfer\n",
      "        3. Change pin\n",
      "        4. Withdrawal\n",
      "        5. Exit\n",
      "         1\n"
     ]
    },
    {
     "name": "stdout",
     "output_type": "stream",
     "text": [
      "welcome to balance enquiry\n",
      "Your account balance is 8000.0\n"
     ]
    },
    {
     "name": "stdin",
     "output_type": "stream",
     "text": [
      "kindly chosse one option:\n",
      "        1. Balance enquiry\n",
      "        2. Fund transfer\n",
      "        3. Change pin\n",
      "        4. Withdrawal\n",
      "        5. Exit\n",
      "         5\n"
     ]
    },
    {
     "name": "stdout",
     "output_type": "stream",
     "text": [
      "Thankyou to banking with us\n"
     ]
    }
   ],
   "source": [
    "tanya=ATM()"
   ]
  },
  {
   "cell_type": "markdown",
   "id": "816f03aa-9d03-499b-b699-e0738638f672",
   "metadata": {},
   "source": [
    "# 2"
   ]
  },
  {
   "cell_type": "code",
   "execution_count": 2,
   "id": "09e6f701-22d6-4a4e-b04b-ad9c7068daa6",
   "metadata": {},
   "outputs": [],
   "source": [
    "import time\n",
    "class ATM:\n",
    "    def __init__(self):\n",
    "        print(\"welcome to kotak Mahindra Bank\")\n",
    "        self.pin=\"3109\"\n",
    "        self.balance=10000.00\n",
    "        time.sleep(4)\n",
    "        self.intro()\n",
    "    def intro(self):\n",
    "        user=input(\"\"\"kindly chosse one option:\n",
    "        1. Balance enquiry\n",
    "        2. Fund transfer\n",
    "        3. Change pin\n",
    "        4. Withdrawal\n",
    "        5. Exit\n",
    "        \"\"\")\n",
    "        if user==\"1\":\n",
    "            self.balance_enquiry()\n",
    "        elif user==\"2\":\n",
    "            self.fund_transfer()\n",
    "        elif user==\"3\":\n",
    "            self.change_pin()\n",
    "        elif user==\"4\":\n",
    "            self.withdrawal()\n",
    "        elif user==\"5\":\n",
    "            self.exit()\n",
    "        else:\n",
    "            print(\"Ty Again\")\n",
    "    def balance_enquiry(self):\n",
    "        print(\"Your account balance is {}\".format(self.balance))\n",
    "        time.sleep(2)\n",
    "        self.intro()\n",
    "    def fund_transfer(self):\n",
    "        print(\"Welcome to fund transer\")\n",
    "        time.sleep(2)\n",
    "        self.intro()\n",
    "    def change_pin(self):\n",
    "        print(\"Welcome to change pin\")\n",
    "        time.sleep(2)\n",
    "        self.intro()\n",
    "    def withdrawal(self):\n",
    "        user=eval(input(\"Enter your balance which you want to withdraw:\"))\n",
    "        if self.balance<user:\n",
    "            print(\"You have insufficient fund\")\n",
    "            time.sleep(2)\n",
    "            self.intro()\n",
    "        else:\n",
    "            self.balance=self.balance-user\n",
    "            print(\"kindly collect your cash: {}\".format(user))\n",
    "            time.sleep(2)\n",
    "            self.intro()  \n",
    "    def exit(self):\n",
    "        print(\"Thankyou to banking with us\")"
   ]
  },
  {
   "cell_type": "code",
   "execution_count": 3,
   "id": "adec1de8-308d-4f72-966e-b3c76b134413",
   "metadata": {},
   "outputs": [
    {
     "name": "stdout",
     "output_type": "stream",
     "text": [
      "welcome to kotak Mahindra Bank\n"
     ]
    },
    {
     "name": "stdin",
     "output_type": "stream",
     "text": [
      "kindly chosse one option:\n",
      "        1. Balance enquiry\n",
      "        2. Fund transfer\n",
      "        3. Change pin\n",
      "        4. Withdrawal\n",
      "        5. Exit\n",
      "         1\n"
     ]
    },
    {
     "name": "stdout",
     "output_type": "stream",
     "text": [
      "Your account balance is 10000.0\n"
     ]
    },
    {
     "name": "stdin",
     "output_type": "stream",
     "text": [
      "kindly chosse one option:\n",
      "        1. Balance enquiry\n",
      "        2. Fund transfer\n",
      "        3. Change pin\n",
      "        4. Withdrawal\n",
      "        5. Exit\n",
      "         4\n",
      "Enter your balance which you want to withdraw: 110000\n"
     ]
    },
    {
     "name": "stdout",
     "output_type": "stream",
     "text": [
      "You have insufficient fund\n"
     ]
    },
    {
     "name": "stdin",
     "output_type": "stream",
     "text": [
      "kindly chosse one option:\n",
      "        1. Balance enquiry\n",
      "        2. Fund transfer\n",
      "        3. Change pin\n",
      "        4. Withdrawal\n",
      "        5. Exit\n",
      "         4\n",
      "Enter your balance which you want to withdraw: 7000\n"
     ]
    },
    {
     "name": "stdout",
     "output_type": "stream",
     "text": [
      "kindly collect your cash: 7000\n"
     ]
    },
    {
     "name": "stdin",
     "output_type": "stream",
     "text": [
      "kindly chosse one option:\n",
      "        1. Balance enquiry\n",
      "        2. Fund transfer\n",
      "        3. Change pin\n",
      "        4. Withdrawal\n",
      "        5. Exit\n",
      "         1\n"
     ]
    },
    {
     "name": "stdout",
     "output_type": "stream",
     "text": [
      "Your account balance is 3000.0\n"
     ]
    },
    {
     "name": "stdin",
     "output_type": "stream",
     "text": [
      "kindly chosse one option:\n",
      "        1. Balance enquiry\n",
      "        2. Fund transfer\n",
      "        3. Change pin\n",
      "        4. Withdrawal\n",
      "        5. Exit\n",
      "         5\n"
     ]
    },
    {
     "name": "stdout",
     "output_type": "stream",
     "text": [
      "Thankyou to banking with us\n"
     ]
    }
   ],
   "source": [
    "tanya=ATM()"
   ]
  },
  {
   "cell_type": "markdown",
   "id": "7ba047ea-96c6-4b9b-8383-5ea6867d09c7",
   "metadata": {},
   "source": [
    "# 3"
   ]
  },
  {
   "cell_type": "code",
   "execution_count": 1,
   "id": "bfe84c26-98eb-4eee-a6cc-0207f4ec0096",
   "metadata": {},
   "outputs": [],
   "source": [
    "import time\n",
    "class ATM:\n",
    "    def __init__(self):\n",
    "        print(\"welcome to kotak Mahindra Bank\")\n",
    "        self.pin=\"3109\"\n",
    "        self.balance=10000.00\n",
    "        time.sleep(4)\n",
    "        self.intro()\n",
    "    def intro(self):\n",
    "        user=input(\"\"\"kindly chosse one option:\n",
    "        1. Balance enquiry\n",
    "        2. Fund transfer\n",
    "        3. Change pin\n",
    "        4. Withdrawal\n",
    "        5. Show pin\n",
    "        6. Exit\n",
    "        \"\"\")\n",
    "        if user==\"1\":\n",
    "            self.balance_enquiry()\n",
    "        elif user==\"2\":\n",
    "            self.fund_transfer()\n",
    "        elif user==\"3\":\n",
    "            self.change_pin()\n",
    "        elif user==\"4\":\n",
    "            self.withdrawal()\n",
    "        elif user==\"5\":\n",
    "            self.show_pin()\n",
    "        elif user==\"6\":\n",
    "            self.exit()\n",
    "        else:\n",
    "            print(\"Ty Again\")\n",
    "    def balance_enquiry(self):\n",
    "        print(\"Your account balance is {}\".format(self.balance))\n",
    "        time.sleep(2)\n",
    "        self.intro()\n",
    "    def fund_transfer(self):\n",
    "        print(\"Welcome to fund transer\")\n",
    "        time.sleep(2)\n",
    "        self.intro()\n",
    "    def change_pin(self):\n",
    "        print(\"Welcome to change pin\")\n",
    "        self.pin=input(\"Enter your new pin\")\n",
    "        print(\"pin change successfully\")\n",
    "        time.sleep(2)\n",
    "        self.intro()\n",
    "    def withdrawal(self):\n",
    "        user=eval(input(\"Enter your balance which you want to withdraw:\"))\n",
    "        if self.balance<user:\n",
    "            print(\"You have insufficient fund\")\n",
    "            time.sleep(2)\n",
    "            self.intro()\n",
    "        else:\n",
    "            self.balance=self.balance-user\n",
    "            print(\"kindly collect your cash: {}\".format(user))\n",
    "            time.sleep(2)\n",
    "            self.intro()  \n",
    "    def show_pin(self):\n",
    "        print(\"Your pin is {}\".format(self.pin))\n",
    "        time.sleep(2)\n",
    "        self.intro()\n",
    "    def exit(self):\n",
    "        print(\"Thankyou to banking with us\")"
   ]
  },
  {
   "cell_type": "code",
   "execution_count": 2,
   "id": "a09ace21-54c8-4d9e-8324-a188d9c132c8",
   "metadata": {},
   "outputs": [
    {
     "name": "stdout",
     "output_type": "stream",
     "text": [
      "welcome to kotak Mahindra Bank\n"
     ]
    },
    {
     "name": "stdin",
     "output_type": "stream",
     "text": [
      "kindly chosse one option:\n",
      "        1. Balance enquiry\n",
      "        2. Fund transfer\n",
      "        3. Change pin\n",
      "        4. Withdrawal\n",
      "        5. Show pin\n",
      "        6. Exit\n",
      "         5\n"
     ]
    },
    {
     "name": "stdout",
     "output_type": "stream",
     "text": [
      "Your pin is 3109\n"
     ]
    },
    {
     "name": "stdin",
     "output_type": "stream",
     "text": [
      "kindly chosse one option:\n",
      "        1. Balance enquiry\n",
      "        2. Fund transfer\n",
      "        3. Change pin\n",
      "        4. Withdrawal\n",
      "        5. Show pin\n",
      "        6. Exit\n",
      "         3\n"
     ]
    },
    {
     "name": "stdout",
     "output_type": "stream",
     "text": [
      "Welcome to change pin\n"
     ]
    },
    {
     "name": "stdin",
     "output_type": "stream",
     "text": [
      "Enter your new pin 931\n"
     ]
    },
    {
     "name": "stdout",
     "output_type": "stream",
     "text": [
      "pin change successfully\n"
     ]
    },
    {
     "name": "stdin",
     "output_type": "stream",
     "text": [
      "kindly chosse one option:\n",
      "        1. Balance enquiry\n",
      "        2. Fund transfer\n",
      "        3. Change pin\n",
      "        4. Withdrawal\n",
      "        5. Show pin\n",
      "        6. Exit\n",
      "         5\n"
     ]
    },
    {
     "name": "stdout",
     "output_type": "stream",
     "text": [
      "Your pin is 931\n"
     ]
    },
    {
     "name": "stdin",
     "output_type": "stream",
     "text": [
      "kindly chosse one option:\n",
      "        1. Balance enquiry\n",
      "        2. Fund transfer\n",
      "        3. Change pin\n",
      "        4. Withdrawal\n",
      "        5. Show pin\n",
      "        6. Exit\n",
      "         1\n"
     ]
    },
    {
     "name": "stdout",
     "output_type": "stream",
     "text": [
      "Your account balance is 10000.0\n"
     ]
    },
    {
     "name": "stdin",
     "output_type": "stream",
     "text": [
      "kindly chosse one option:\n",
      "        1. Balance enquiry\n",
      "        2. Fund transfer\n",
      "        3. Change pin\n",
      "        4. Withdrawal\n",
      "        5. Show pin\n",
      "        6. Exit\n",
      "         4\n",
      "Enter your balance which you want to withdraw: 20000\n"
     ]
    },
    {
     "name": "stdout",
     "output_type": "stream",
     "text": [
      "You have insufficient fund\n"
     ]
    },
    {
     "name": "stdin",
     "output_type": "stream",
     "text": [
      "kindly chosse one option:\n",
      "        1. Balance enquiry\n",
      "        2. Fund transfer\n",
      "        3. Change pin\n",
      "        4. Withdrawal\n",
      "        5. Show pin\n",
      "        6. Exit\n",
      "         4\n",
      "Enter your balance which you want to withdraw: 2000\n"
     ]
    },
    {
     "name": "stdout",
     "output_type": "stream",
     "text": [
      "kindly collect your cash: 2000\n"
     ]
    },
    {
     "name": "stdin",
     "output_type": "stream",
     "text": [
      "kindly chosse one option:\n",
      "        1. Balance enquiry\n",
      "        2. Fund transfer\n",
      "        3. Change pin\n",
      "        4. Withdrawal\n",
      "        5. Show pin\n",
      "        6. Exit\n",
      "         1\n"
     ]
    },
    {
     "name": "stdout",
     "output_type": "stream",
     "text": [
      "Your account balance is 8000.0\n"
     ]
    },
    {
     "name": "stdin",
     "output_type": "stream",
     "text": [
      "kindly chosse one option:\n",
      "        1. Balance enquiry\n",
      "        2. Fund transfer\n",
      "        3. Change pin\n",
      "        4. Withdrawal\n",
      "        5. Show pin\n",
      "        6. Exit\n",
      "         6\n"
     ]
    },
    {
     "name": "stdout",
     "output_type": "stream",
     "text": [
      "Thankyou to banking with us\n"
     ]
    }
   ],
   "source": [
    "tanya=ATM()"
   ]
  }
 ],
 "metadata": {
  "kernelspec": {
   "display_name": "Python 3 (ipykernel)",
   "language": "python",
   "name": "python3"
  },
  "language_info": {
   "codemirror_mode": {
    "name": "ipython",
    "version": 3
   },
   "file_extension": ".py",
   "mimetype": "text/x-python",
   "name": "python",
   "nbconvert_exporter": "python",
   "pygments_lexer": "ipython3",
   "version": "3.11.5"
  }
 },
 "nbformat": 4,
 "nbformat_minor": 5
}
